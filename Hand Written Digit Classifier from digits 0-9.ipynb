{
 "cells": [
  {
   "cell_type": "code",
   "execution_count": null,
   "metadata": {},
   "outputs": [],
   "source": [
    "# this project is designed to build a classifier that is able to classify digits images from the MNIST data set of the digits 0-9 \n",
    "\n",
    "#install packages, pip is the command to download and install all the software packages\n",
    "!pip install tensorflow keras numpy mnist matplotlib"
   ]
  },
  {
   "cell_type": "code",
   "execution_count": null,
   "metadata": {},
   "outputs": [],
   "source": [
    "#Importing the necessary packages, mnist is where all the data comes from, matplotlib is intended to graph the images of digits\n",
    "# The Sequential command is used to create the entire structure of the Neural Network\n",
    "# The Dense command indicates the number of layers within the Neural Network\n",
    "# To_categorical is used to transform the data into some form of fixed values\n",
    "import numpy as np \n",
    "import mnist \n",
    "from keras.models import Sequential\n",
    "from keras. layers import Dense \n",
    "from keras.utils import to_categorical\n",
    "import matplotlib.pyplot as plt "
   ]
  },
  {
   "cell_type": "code",
   "execution_count": null,
   "metadata": {},
   "outputs": [],
   "source": [
    "#Loading data set\n",
    "#The variable train_images provides the training data images\n",
    "#The variblae train_labels provides labels for the training data images\n",
    "#To evaluate the training variables, a test variable needs to be introduced,Hence, the variables test_images and test_labels\n",
    "train_images = mnist.train_images() \n",
    "train_labels = mnist.train_labels()\n",
    "test_images = mnist.test_images()\n",
    "test_labels = mnist.test_labels()"
   ]
  },
  {
   "cell_type": "code",
   "execution_count": null,
   "metadata": {},
   "outputs": [],
   "source": [
    "#Normalizing the number of pixel values(which refers to the colour of each pixel) from {0,255} to {0,1}\n",
    "#Normalizing the pixel values enables an easier way to train the neural network\n",
    "#To enable normalization, divide any pixel value that ranges from {0-255} \n",
    "#so that it enters the range of {0-1} , i.e. min value: 0/255 = 0  max value: 255/255=1\n",
    "train_images=(train_images/255) \n",
    "test_labels=(test_labels/255) \n",
    "\n",
    "#Flattening the images allows the images to be compressed into one dimension/vector. This ensures that the image is able to go through the neural network\n",
    "#The mnist data images have dimensions of 28x28 pixeled image into a 1x784 \"vector\" \n",
    "#The reshape function enables the flattening process\n",
    "train_images=train_images.reshape ((-1,784))\n",
    "test_images=test_images.reshape((-1,784))\n",
    "\n",
    "#Print the flattened images\n",
    "#The output should be 60K rows and 784 columns of training data\n",
    "#The output should be 10K rows and 784 columns of testing data\n",
    "#Output of the shape \n",
    "print(train_images.shape) \n",
    "print(test_images.shape)\n"
   ]
  },
  {
   "cell_type": "code",
   "execution_count": null,
   "metadata": {},
   "outputs": [],
   "source": [
    "#Construct the model\n",
    "#Network consists of 3 layers, 2 layers that consist of 64 neurons using Relu function\n",
    "# 1 layer that consists of 10 neurons(digits 0-9) using Softmax function\n",
    "model = Sequential()\n",
    "model.add(Dense(64, activation='relu', input_dim=784))\n",
    "model.add(Dense(64, activation='relu'))\n",
    "model.add(Dense(10, activation='softmax'))"
   ]
  },
  {
   "cell_type": "code",
   "execution_count": null,
   "metadata": {},
   "outputs": [],
   "source": [
    "#Compiling the model involves two concpets: The loss function is used to measure how well the model does in the training stage and \n",
    "# the optimizer modifies the neural network according to the performance so that it can improve. Such changes can include \"weight sizes, learning rate\"\n",
    "#adam is one of the most well known optimizers that are used in neural networks\n",
    "#cateogrical crossentropy is a lost function that is used in neural netowrks so that it can minimize the difference between the predicted values(hypothesis)\n",
    "# and the traininge example values\n",
    "#In other words, cateogrical crossentropy is used for multi-class classification in which each data set/training example belongs to one specific class. \n",
    "#I.e, red calculator is classified as a red calcualtor , ruler is classified as a ruler (many different classes but each training example belongs to one class)\n",
    "#metrics is a parameter that is used to measure the accuracy of the training process\n",
    "model.compile(\n",
    "    optimizer='adam',\n",
    "    loss= 'categorical_crossentropy',  \n",
    "    metrics= ['accuracy']"
   ]
  },
  {
   "cell_type": "code",
   "execution_count": null,
   "metadata": {},
   "outputs": [],
   "source": [
    "#Training the model\n",
    "#epoch is referred to number of times the vectors have gone through the network once and thus have updated the weights\n",
    "#batch size refers to the number of training examples used in one iteration\n",
    "#Interesting to note that in this case, the number of epochs resulted in a greater accuracy, but in general, it depends upon your size of data set and batch size\n",
    "model.fit(\n",
    "    train_images,\n",
    "    to_categorical(train_labels), \n",
    "    epochs= 20, \n",
    "    batch_size= 32\n",
    ") \n"
   ]
  },
  {
   "cell_type": "code",
   "execution_count": null,
   "metadata": {},
   "outputs": [],
   "source": [
    "#Evaluating the model\n",
    "model.evaluate(\n",
    "  test_images,\n",
    "  to_categorical(test_labels)\n",
    ")"
   ]
  },
  {
   "cell_type": "code",
   "execution_count": null,
   "metadata": {},
   "outputs": [],
   "source": [
    "#Predicting the first 5 images\n",
    "#output has 10 probabilities (0-9)\n",
    "#using the argmax function to convert the probabilities into digits\n",
    "#model predicts the images\n",
    "#the labels are then printed to see if model's prediction matches the label output\n",
    "predictions = model.predict(test_images[:5])\n",
    "print (np.argmax(predictions, axis =1))\n",
    "print(test_labels[:5])"
   ]
  },
  {
   "cell_type": "code",
   "execution_count": null,
   "metadata": {},
   "outputs": [],
   "source": [
    "#Graphical representation of the images that our model had to predict\n",
    "#the cmap='gray' converts the coloured images into gray images\n",
    "import matplotlib.pyplot as plt\n",
    "for i in range(0,10):\n",
    "  first_image = test_images[i]\n",
    "  first_image = np.array(first_image, dtype='float')\n",
    "  pixels = first_image.reshape((28, 28))\n",
    "  plt.imshow(pixels, cmap='gray')\n",
    "  plt.show()"
   ]
  }
 ],
 "metadata": {
  "kernelspec": {
   "display_name": "Python 3",
   "language": "python",
   "name": "python3"
  },
  "language_info": {
   "codemirror_mode": {
    "name": "ipython",
    "version": 3
   },
   "file_extension": ".py",
   "mimetype": "text/x-python",
   "name": "python",
   "nbconvert_exporter": "python",
   "pygments_lexer": "ipython3",
   "version": "3.7.4"
  }
 },
 "nbformat": 4,
 "nbformat_minor": 2
}
